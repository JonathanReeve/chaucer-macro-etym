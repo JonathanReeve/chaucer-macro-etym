{
 "cells": [
  {
   "cell_type": "code",
   "execution_count": 40,
   "metadata": {
    "collapsed": true
   },
   "outputs": [],
   "source": [
    "import re\n",
    "import random"
   ]
  },
  {
   "cell_type": "code",
   "execution_count": 17,
   "metadata": {
    "collapsed": true
   },
   "outputs": [],
   "source": [
    "dictLines = open('oed.dict').readlines()"
   ]
  },
  {
   "cell_type": "code",
   "execution_count": 227,
   "metadata": {
    "collapsed": true
   },
   "outputs": [],
   "source": [
    "class DictWord: \n",
    "    def __init__(self, pair):\n",
    "        if len(pair) != 2: \n",
    "            raise Error\n",
    "        \n",
    "        self.etymString = None    \n",
    "        self.parentLang = None\n",
    "        self.parent = None\n",
    "        self.etymString = None\n",
    "        \n",
    "        self.rawString = pair\n",
    "        self.rawWord = pair[0]\n",
    "        self.rawDef = pair[1]\n",
    "        \n",
    "        self.word = self.parseWord(self.rawWord)\n",
    "        \n",
    "        self.etymString = self.parseDefinition(self.rawDef)\n",
    "        self.parseEtym(self.etymString)\n",
    "\n",
    "    def __repr__(self): \n",
    "        varDict = vars(self)\n",
    "        return \"\\n\".join([\"%s: %s\" % (key, val) \n",
    "                          for key, val in varDict.items()\n",
    "                          if key is not 'rawString'])\n",
    "    \n",
    "    def parseWord(self, rawWord): \n",
    "        # Get the first word.\n",
    "        match = re.search('([A-Za-z].*?)[,.;\\s]', rawWord)\n",
    "        if match is not None: \n",
    "            return match.group(1)\n",
    "    \n",
    "        \n",
    "    def parseDefinition(self, rawDef): \n",
    "        \"\"\" Get bracketed part of definition.\"\"\"\n",
    "        if rawDef is not None and '[' in rawDef: \n",
    "            match = re.search('\\[(.*?)]', rawDef)\n",
    "            if match is not None: \n",
    "                return match.group(1)\n",
    "        return None\n",
    "    \n",
    "    langDict = {\"med.L.\": 'lat', \n",
    "                \"L.\": 'lat', \n",
    "                \"La.\": 'lat', \n",
    "                \"AngloFr.\": 'xno', \n",
    "                \"F.\": 'fra', \n",
    "                \"Fr.\": 'fra', \n",
    "                \"OF.\": 'fro', \n",
    "                \"mod.Fr.\": 'fra',   \n",
    "                \"G.\": 'deu', \n",
    "                \"Ger.\": 'deu', \n",
    "                \"mod.F.\": 'fra', \n",
    "                'OHG.': 'goh', \n",
    "                'MHG.': 'gmh', \n",
    "                'OE.': 'ang', \n",
    "                'ON.': 'non', \n",
    "                'Sp.': 'spa', \n",
    "                'It.': 'ita', \n",
    "                'OS.': 'ang', \n",
    "                'Gr.': 'grc', \n",
    "                \"Gre.\": 'grc', \n",
    "                \"Heb.\": 'heb', \n",
    "                \"Jap.\": 'jpn',\n",
    "                'OCelt.': 'cel', \n",
    "                \"Oir.\": 'sga', \n",
    "                \"mod.Ir.\": 'gle', \n",
    "                \"ME.\": 'enm', \n",
    "                \"Arab.\": 'ara'}\n",
    "\n",
    "    def parseEtym(self, etym): \n",
    "        if etym == None: \n",
    "            return None\n",
    "        languages = list(self.langDict.keys())\n",
    "        matches = [re.search('\\s'+re.escape(lang), etym) for lang in languages]\n",
    "        # Sort by where they appear in the list, so that we can pick \n",
    "        # the leftmost language. \n",
    "        sortedMatches = sorted(matches, key=lambda x: x.span()[0] if x is not None else 99999)\n",
    "        if len(sortedMatches) > 0 and sortedMatches[0] is not None: \n",
    "            # Search after the name of the language\n",
    "            langEnd = sortedMatches[0].span()[1] \n",
    "            etym = etym[langEnd:]\n",
    "            # Get the first word after the language name. \n",
    "            match = re.search('([A-Za-z].*?)[,.;\\s]', etym)\n",
    "            if match is not None: \n",
    "                parent = match.group(1)\n",
    "            else: \n",
    "                parent = None\n",
    "            self.parentLang = sortedMatches[0].group(0).strip()\n",
    "            self.parent = parent\n",
    "        else: \n",
    "            self.parentLang = None\n",
    "            self.parent = None"
   ]
  },
  {
   "cell_type": "code",
   "execution_count": 228,
   "metadata": {
    "collapsed": true
   },
   "outputs": [],
   "source": [
    "def parseDict(dictLines): \n",
    "    matchLines = []\n",
    "    for i, line in enumerate(dictLines): \n",
    "        match = re.search('^\\s\\(', line)\n",
    "        if match is not None: \n",
    "            matchLines.append(i)\n",
    "    definitions = []\n",
    "    for i in matchLines: \n",
    "        definitions.append(dictLines[i-1:i+1])\n",
    "    definitions = [[d.strip() for d in defns] for defns in definitions]\n",
    "    return definitions"
   ]
  },
  {
   "cell_type": "code",
   "execution_count": 229,
   "metadata": {
    "collapsed": true
   },
   "outputs": [],
   "source": [
    "definitions = parseDict(dictLines)"
   ]
  },
  {
   "cell_type": "code",
   "execution_count": 245,
   "metadata": {
    "collapsed": true
   },
   "outputs": [],
   "source": [
    "wordsWithEtyms = []\n",
    "for word in definitions: \n",
    "    w = DictWord(word)\n",
    "    if w.word is not None and w.parentLang is not None and w.parent is not None: \n",
    "        wordsWithEtyms.append(w)\n",
    "            "
   ]
  },
  {
   "cell_type": "code",
   "execution_count": 246,
   "metadata": {
    "collapsed": true
   },
   "outputs": [],
   "source": [
    "out = []\n",
    "for w in wordsWithEtyms:\n",
    "    if w.parentLang in DictWord.langDict: \n",
    "        translated = DictWord.langDict[w.parentLang]\n",
    "        out.append(\"eng:%s\\t%s:%s\" % (w.word, translated, w.parent))\n",
    "    else: \n",
    "        print('---')\n",
    "        print(\"Can't find lang for: \", w.word)\n",
    "        print('Etymstring: ', w.etymString)\n",
    "        print('Parentlang: ', w.parentLang)"
   ]
  },
  {
   "cell_type": "code",
   "execution_count": 247,
   "metadata": {},
   "outputs": [
    {
     "data": {
      "text/plain": [
       "38074"
      ]
     },
     "execution_count": 247,
     "metadata": {},
     "output_type": "execute_result"
    }
   ],
   "source": [
    "len(out)"
   ]
  },
  {
   "cell_type": "code",
   "execution_count": 248,
   "metadata": {
    "collapsed": true
   },
   "outputs": [],
   "source": [
    "etymWN = \"\\n\".join(out)"
   ]
  },
  {
   "cell_type": "code",
   "execution_count": 249,
   "metadata": {
    "collapsed": true
   },
   "outputs": [],
   "source": [
    "with open('oed-etymwn.tsv', 'w') as f: \n",
    "    f.write(etymWN)"
   ]
  }
 ],
 "metadata": {
  "kernelspec": {
   "display_name": "Python 3",
   "language": "python",
   "name": "python3"
  },
  "language_info": {
   "codemirror_mode": {
    "name": "ipython",
    "version": 3
   },
   "file_extension": ".py",
   "mimetype": "text/x-python",
   "name": "python",
   "nbconvert_exporter": "python",
   "pygments_lexer": "ipython3",
   "version": "3.6.0"
  }
 },
 "nbformat": 4,
 "nbformat_minor": 2
}
