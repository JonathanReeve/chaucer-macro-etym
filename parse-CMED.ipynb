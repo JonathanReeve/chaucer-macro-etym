{
 "cells": [
  {
   "cell_type": "markdown",
   "metadata": {},
   "source": [
    "```\n",
    "A CONCISE DICTIONARY of MIDDLE ENGLISH \n",
    "FROM A.D. 1150 TO 1580 \n",
    "By the REV. A. L. MAYHEW, M.A. \n",
    "of Wadham College, Oxford \n",
    "and the REV. WALTER W. SKEAT LITT.D.; LL.D. EDIN.; M.A. OXON. \n",
    "Elrington and Bosworth Professor of Anglo-Saxon in the University of Cambridge \n",
    "“These our Ancient Words here set down, I trust will for this time satisfie the Reader.” R. VERSTEGAN, _Restitution of Decayed Intelligence_, ch. vii (at the end) \n",
    "“Authentic words be given, or none!” WORDSWORTH, _Lines on Macpherson’s Ossian_ +Oxford+ \n",
    "AT THE CLARENDON PRESS M DCCC LXXXVIII\n",
    "```"
   ]
  },
  {
   "cell_type": "code",
   "execution_count": 1,
   "metadata": {
    "collapsed": true
   },
   "outputs": [],
   "source": [
    "import os\n",
    "import re\n",
    "from collections import Counter"
   ]
  },
  {
   "cell_type": "code",
   "execution_count": 2,
   "metadata": {},
   "outputs": [
    {
     "data": {
      "text/plain": [
       "0"
      ]
     },
     "execution_count": 2,
     "metadata": {},
     "output_type": "execute_result"
    }
   ],
   "source": [
    "os.system('wget http://www.gutenberg.org/files/10625/10625-0.txt')"
   ]
  },
  {
   "cell_type": "code",
   "execution_count": 3,
   "metadata": {
    "collapsed": true
   },
   "outputs": [],
   "source": [
    "with open('10625-0.txt') as f: \n",
    "    med = f.read()"
   ]
  },
  {
   "cell_type": "code",
   "execution_count": 4,
   "metadata": {
    "collapsed": true
   },
   "outputs": [],
   "source": [
    "paras = med.split('\\n\\n')"
   ]
  },
  {
   "cell_type": "code",
   "execution_count": 5,
   "metadata": {
    "collapsed": true
   },
   "outputs": [],
   "source": [
    "entries = [para for para in paras if para.startswith('+')]"
   ]
  },
  {
   "cell_type": "code",
   "execution_count": 6,
   "metadata": {},
   "outputs": [
    {
     "data": {
      "text/plain": [
       "'+Bi-sprengen+, _v._ to besprinkle, MD; +bi-spreynde+, _pt. s._ W;\\n+besprent+, _pp._ bedewed, S3; +bysprent+, S3; +besprint+, S3;\\n+bispreynt+, W2.--AS. _be-sprengan_.'"
      ]
     },
     "execution_count": 6,
     "metadata": {},
     "output_type": "execute_result"
    }
   ],
   "source": [
    "entries[1180]"
   ]
  },
  {
   "cell_type": "code",
   "execution_count": 18,
   "metadata": {
    "collapsed": true
   },
   "outputs": [],
   "source": [
    "class Word: \n",
    "    def __init__(self, raw, variantOf=None): \n",
    "        self.raw = raw\n",
    "        self.variantOf = variantOf\n",
    "        self.string = self.raw.replace('\\n', ' ')\n",
    "        self.etym = self.getEtym(self.string)\n",
    "        self.etymLang = self.getEtymLang(self.etym)\n",
    "        self.etymLangStandard = self.standardizeEtymLang(self.etymLang)\n",
    "        self.parent = self.getParent(self.etym)\n",
    "        self.referenceTo = self.getReference(self.string)\n",
    "        self.name = self.getName(self.string)\n",
    "        self.pos = self.getPOS(self.string)\n",
    "        self.variants = self.getVariants(self.string)\n",
    "\n",
    "    def __str__(self): \n",
    "        self.__repr__()\n",
    "    \n",
    "    def __repr__(self): \n",
    "        out = self.name + '\\n'\n",
    "        out += ', \\n'.join(\"  %s: %s\" % item for item in vars(self).items())\n",
    "        return out\n",
    "    \n",
    "    def __eq__(self, other): \n",
    "        return self.name == other\n",
    "        \n",
    "    def getName(self, word): \n",
    "        if word is not None: \n",
    "            match = re.search('\\+(.*?)\\+', word) \n",
    "            if match is not None: \n",
    "                return match.group(1) \n",
    "        if self.variantOf is not None: \n",
    "            return self.variantOf\n",
    "        return None\n",
    "    \n",
    "    def getReference(self, word): \n",
    "        # First see if it's an error. \n",
    "        errorMatch = re.search('\\[\\[(error\\sfor\\s|headword\\sspelled\\s)\\+(.*?)\\+', word)\n",
    "        if errorMatch is not None: \n",
    "            self.string = self.string.replace(errorMatch.group(0), '')\n",
    "            return errorMatch.group(2)\n",
    "        # Don't try to follow a reference if it already has an etymology, \n",
    "        # since this is now extranneous information. \n",
    "        if self.etym is not None: \n",
    "            return None\n",
    "        match = re.search('see \\+(.*?)\\+', word)\n",
    "        if match is not None: \n",
    "            # Remove the reference from our working string. \n",
    "            self.string = self.string.replace(match.group(0), '')\n",
    "            return match.group(1)\n",
    "        else:\n",
    "            return None\n",
    "        \n",
    "    def getPOS(self, word): \n",
    "        match = re.search('_(.*?)_', word)\n",
    "        if match is not None: \n",
    "            self.string = self.string.replace(match.group(0), '')\n",
    "            return match.group(1).replace('.', '')\n",
    "        else: \n",
    "            return None\n",
    "    \n",
    "    def getEtym(self, word): \n",
    "        if '--' in word: \n",
    "            dashSplit = word.split('--')\n",
    "            etymChunk = dashSplit[1]\n",
    "            # Remove the part after the dash. \n",
    "            self.string = self.string.replace(etymChunk, \"\").replace('--', '')\n",
    "            return etymChunk\n",
    "        else: \n",
    "            return None\n",
    "\n",
    "    def getEtymLang(self, word): \n",
    "        if word is not None and '.' in word: \n",
    "            matches = list(re.finditer('(.*?)\\.', word))\n",
    "            if len(matches) > 1 and matches[0].group(1) == \"Cp\": \n",
    "                return matches[1].group(1).strip()\n",
    "            else: \n",
    "                return matches[0].group(1).strip()\n",
    "        else: \n",
    "            return None\n",
    "    \n",
    "    def getParent(self, word): \n",
    "        if word is not None and '.' in word: \n",
    "            match = re.search('_(.*?)_', word)\n",
    "            if match is not None: \n",
    "                return match.group(1)\n",
    "        else: \n",
    "            return None\n",
    "        \n",
    "    def standardizeEtymLang(self, lang): \n",
    "        if lang is None: \n",
    "            return None\n",
    "        langDict = { 'AS': 'ang', 'OS': 'ang', 'ONorth': 'ang', 'OMerc': 'ang',\n",
    "                'Probably from AS': 'ang', \"From AS\": 'ang',\n",
    "                \"Church Lat\": 'lat', 'Lat': 'lat', \"Late Lat\": 'lat', \"Low Lat\": 'lat',\n",
    "                'OF': 'fro', 'AF': 'xno', 'From OF': 'fro', \n",
    "                'Of French origin, from Lat': 'fra',\n",
    "                \"Icel\": 'isl', \"Swed\": 'swe', \"Du\": 'nld', \n",
    "                \"G\": 'deu', \"OHG\": 'goh',\n",
    "                \"Goth\": 'got'}\n",
    "        if lang in langDict: \n",
    "            return langDict[lang]\n",
    "        else: \n",
    "            return None\n",
    "    \n",
    "    def getVariants(self, word): \n",
    "        matches = re.findall('\\+(.*?)\\+', word)\n",
    "#         print(matches)\n",
    "        return [match for match in matches]"
   ]
  },
  {
   "cell_type": "code",
   "execution_count": 19,
   "metadata": {
    "collapsed": true
   },
   "outputs": [],
   "source": [
    "words = [Word(entry) for entry in entries]"
   ]
  },
  {
   "cell_type": "code",
   "execution_count": 20,
   "metadata": {},
   "outputs": [
    {
     "data": {
      "text/plain": [
       "(11349, 11349)"
      ]
     },
     "execution_count": 20,
     "metadata": {},
     "output_type": "execute_result"
    }
   ],
   "source": [
    "len(words), len(entries)"
   ]
  },
  {
   "cell_type": "code",
   "execution_count": 21,
   "metadata": {
    "collapsed": true
   },
   "outputs": [],
   "source": [
    "wordDict = {}\n",
    "allVariants = []\n",
    "for word in words: \n",
    "    wordDict[word.name] = word"
   ]
  },
  {
   "cell_type": "code",
   "execution_count": 22,
   "metadata": {
    "collapsed": true
   },
   "outputs": [],
   "source": [
    "# Follow \"see OtherWord\" references\n",
    "for word in words: \n",
    "    if word.referenceTo is not None: \n",
    "        if word.referenceTo in wordDict: \n",
    "            wordDict[word.name] = wordDict[word.referenceTo]\n"
   ]
  },
  {
   "cell_type": "code",
   "execution_count": 23,
   "metadata": {
    "collapsed": true
   },
   "outputs": [],
   "source": [
    "for word in words: \n",
    "    if word.variants is not None: \n",
    "        for variant in word.variants: \n",
    "            wordDict[variant] = word"
   ]
  },
  {
   "cell_type": "code",
   "execution_count": 24,
   "metadata": {},
   "outputs": [
    {
     "data": {
      "text/plain": [
       "28335"
      ]
     },
     "execution_count": 24,
     "metadata": {},
     "output_type": "execute_result"
    }
   ],
   "source": [
    "len(wordDict)"
   ]
  },
  {
   "cell_type": "code",
   "execution_count": 30,
   "metadata": {},
   "outputs": [
    {
     "data": {
      "text/plain": [
       "Hony-socle\n",
       "  raw: +Hony-socle+, _sb._ honeysuckle, Prompt.; _locusta_, Prompt., \n",
       "  variantOf: None, \n",
       "  string: +Hony-socle+,  honeysuckle, Prompt.; _locusta_, Prompt., \n",
       "  etym: None, \n",
       "  etymLang: None, \n",
       "  etymLangStandard: None, \n",
       "  parent: None, \n",
       "  referenceTo: None, \n",
       "  name: Hony-socle, \n",
       "  pos: sb, \n",
       "  variants: ['Hony-socle']"
      ]
     },
     "execution_count": 30,
     "metadata": {},
     "output_type": "execute_result"
    }
   ],
   "source": [
    "words[5020]"
   ]
  },
  {
   "cell_type": "code",
   "execution_count": 49,
   "metadata": {
    "collapsed": true
   },
   "outputs": [],
   "source": [
    "etyms = {name: obj for name, obj in wordDict.items() if obj.parent is not None}"
   ]
  },
  {
   "cell_type": "code",
   "execution_count": 41,
   "metadata": {},
   "outputs": [],
   "source": [
    "wordsWithEtyms = [w for w in words if w.etym is not None]\n",
    "wordsWithParents = [w for w in words if w.parent is not None]"
   ]
  },
  {
   "cell_type": "code",
   "execution_count": 16,
   "metadata": {},
   "outputs": [
    {
     "data": {
      "text/plain": [
       "[('ang', 11644),\n",
       " ('fro', 3270),\n",
       " ('xno', 2133),\n",
       " ('isl', 1053),\n",
       " ('lat', 448),\n",
       " ('nld', 76),\n",
       " ('swe', 50),\n",
       " ('deu', 31),\n",
       " ('goh', 27),\n",
       " ('got', 20),\n",
       " ('fra', 5)]"
      ]
     },
     "execution_count": 16,
     "metadata": {},
     "output_type": "execute_result"
    }
   ],
   "source": [
    "Counter(etyms.values()).most_common(50)"
   ]
  },
  {
   "cell_type": "code",
   "execution_count": 61,
   "metadata": {},
   "outputs": [],
   "source": [
    "etymWN = []\n",
    "for name, etym in etyms.items(): \n",
    "    etymWN.append(\"enm:%s\\t%s:%s\" % (name, etym.etymLangStandard, etym.parent))"
   ]
  },
  {
   "cell_type": "code",
   "execution_count": 62,
   "metadata": {},
   "outputs": [
    {
     "data": {
      "text/plain": [
       "19135"
      ]
     },
     "execution_count": 62,
     "metadata": {},
     "output_type": "execute_result"
    }
   ],
   "source": [
    "len(etymWN)"
   ]
  },
  {
   "cell_type": "code",
   "execution_count": 63,
   "metadata": {
    "collapsed": true
   },
   "outputs": [],
   "source": [
    "etymWNOut = '\\n'.join(etymWN)"
   ]
  },
  {
   "cell_type": "code",
   "execution_count": 64,
   "metadata": {
    "collapsed": true
   },
   "outputs": [],
   "source": [
    "with open('omed-etymwn.tsv', 'w') as f: \n",
    "    f.write(etymWNOut)"
   ]
  },
  {
   "cell_type": "code",
   "execution_count": null,
   "metadata": {
    "collapsed": true
   },
   "outputs": [],
   "source": []
  }
 ],
 "metadata": {
  "kernelspec": {
   "display_name": "Python 3",
   "language": "python",
   "name": "python3"
  },
  "language_info": {
   "codemirror_mode": {
    "name": "ipython",
    "version": 3
   },
   "file_extension": ".py",
   "mimetype": "text/x-python",
   "name": "python",
   "nbconvert_exporter": "python",
   "pygments_lexer": "ipython3",
   "version": "3.6.0"
  }
 },
 "nbformat": 4,
 "nbformat_minor": 2
}
